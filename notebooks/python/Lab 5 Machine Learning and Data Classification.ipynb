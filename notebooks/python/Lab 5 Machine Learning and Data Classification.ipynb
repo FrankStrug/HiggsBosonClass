{
 "cells": [
  {
   "cell_type": "markdown",
   "metadata": {},
   "source": [
    "# Lab 5 Machine Learning and Data Classification\n",
    "\n",
    "## Table of Contents\n",
    "1. **[Data: Signal and Background](#Data)**  \n",
    "   1.1. [What is Data?](#what_is_data)  \n",
    "   1.2. [Visually Comparing Signal and Background](#compar)  \n",
    "2. **[Classifier Training](#class_train)**  \n",
    "   2.1 [Scikit-learn](#scikit)  \n",
    "   2.2 [Decision Trees and Boosting](#dtrees_and_boosting)  \n",
    "3. **[Classifier Testing](#class_test)**  \n",
    "   3.1 [Overtraining Check with Cross Validation](#overtrain_check)  \n",
    "   3.2 [Roc Curve and Score](#ROC)  \n"
   ]
  },
  {
   "cell_type": "markdown",
   "metadata": {},
   "source": [
    "## 1. TTrees <a name=\"Data\" />  \n",
    "### 1.1 What is Data? <a name=\"what_is_data\" />  \n",
    "When performing analysis, we are interested in analyzing what we consider to be signal. However, background noise is unavoidable and one of the objectives of an analysis is to reduce the noise as much as possible. We are mostly interested in what the signal is telling us about physics. To eliminate noise, we compare what signal and background look like and use that to classify our data - which is some unknown combination of signal and background. This can be done by simple visual comparison of distributions, or through the use of a neural network which can compare signal and background on a multi-variate level. A classifier has the added benefit of looking at many variables of an single event and comparing that across millions events. Before it can classify the data though, it must be trained to know what signal and background both look like. "
   ]
  },
  {
   "cell_type": "markdown",
   "metadata": {},
   "source": [
    "### 1.2 Visually Comparing Signal and Background <a name=\"compar\" />  \n",
    "For this exercise we will be working with three ROOT files: a background only file, a signal and background file, and a signal only file. Let's visually compare the background and signal before employing the use of the classifier. For this example, we will be working with a generated dataset of particle events with mass, eta, and phi information."
   ]
  },
  {
   "cell_type": "code",
   "execution_count": 2,
   "metadata": {},
   "outputs": [
    {
     "name": "stdout",
     "output_type": "stream",
     "text": [
      "Welcome to JupyROOT 6.17/01\n"
     ]
    }
   ],
   "source": [
    "import ROOT\n",
    "from ROOT import TFile, TTree, TObject, TCanvas\n",
    "import numpy as np"
   ]
  },
  {
   "cell_type": "code",
   "execution_count": null,
   "metadata": {},
   "outputs": [],
   "source": [
    "#Grab the three decay trees\n",
    "bkg_file = TFile.Open(\"../../Datasets/Gen/Lab5_root/example/bkg.root\")\n",
    "bkg_tree = bkg_file.Get(\"DecayTree\")\n",
    "\n",
    "bkg_sig_file = TFile.Open(\"../../Datasets/Gen/Lab5_root/example/bkg_and_sig.root\")\n",
    "bkg_sig_tree = bkg_sig_file.Get(\"DecayTree\")\n",
    "\n",
    "sig_file = TFile.Open(\"../../Datasets/Gen/Lab5_root/example/sig.root\")\n",
    "sig_tree = sig_file.Get(\"DecayTree\")\n",
    "\n",
    "#Create TCanvas and plot the mass, phi, and eta from each TTree\n",
    "canvas = TCanvas(\"canvas\", \"Comparing Sig and Bkg\", 900, 900)\n",
    "canvas.Divide(3,3)\n",
    "\n",
    "#Draw each distribution\n",
    "#background\n",
    "canvas.cd(1)\n",
    "bkg_tree.Draw(\"mass\")\n",
    "canvas.cd(2)\n",
    "bkg_tree.Draw(\"eta\")\n",
    "canvas.cd(3)\n",
    "bkg_tree.Draw(\"phi\")\n",
    "\n",
    "#signal\n",
    "canvas.cd(4)\n",
    "sig_tree.Draw(\"mass\")\n",
    "canvas.cd(5)\n",
    "sig_tree.Draw(\"eta\")\n",
    "canvas.cd(6)\n",
    "sig_tree.Draw(\"phi\")\n",
    "\n",
    "#background and signal\n",
    "canvas.cd(7)\n",
    "bkg_sig_tree.Draw(\"mass\")\n",
    "canvas.cd(8)\n",
    "bkg_sig_tree.Draw(\"eta\")\n",
    "canvas.cd(9)\n",
    "bkg_sig_tree.Draw(\"phi\")\n",
    "\n",
    "canvas.Draw()"
   ]
  },
  {
   "cell_type": "markdown",
   "metadata": {},
   "source": [
    "Visually, we can already see the mass distributions between signal and background are different - a gaussian and an exponential respectively. Additionally, there seems to be a coorelation between mass and eta that differs between signal and background. There isn't any clear coorelation between signal and background on the phi distribution. Since these distributions overlap, we cannot simply cut at a certain mass or eta. Although this would eliminate background, it would also eliminate signal. We must find a cut that reduces the most background but also preserves our signal. This is where the classifier becomes useful. Though we can see the coorelation between mass and eta, a classifier can consider both these distributions simultaneously when evaluating whether an event is signal or background. I.e. a low mass event with low eta is probably background, while an event with a mass of 172 MeV and eta of 2 may be difficult to distinguish from signal or background. The classifier will give us its determination as a -1 or 1, or in some cases 0 or 1. This can be on a continuum or boolean based. This depends entirely on the classifier and decision function called from it."
   ]
  },
  {
   "cell_type": "markdown",
   "metadata": {},
   "source": [
    "## 2. Classifier Training <a name=\"class_train\" /> \n",
    "\n",
    "### 2.1 Scikit-learn <a name=\"scikit\" /> "
   ]
  },
  {
   "cell_type": "markdown",
   "metadata": {},
   "source": [
    "In python, we will be using the scikit-learn package for it's machine learning classes. We will discuss the basic function of these classes, but will not go into depth of how they function. First, scikit-learn must be installed. Additionally, we will be using root_pandas to convert the ROOT files to panda's dataframes which can be interpreted by scikit-learn. \n",
    "\n",
    "#### Note: These commands are not very stable in jupyter. Run one command, and wait for it to finish before executing the next one. This may take a few tries since the kernal frequently crashes. If it does crash, remember to import ROOT again from the beginning. Installing to your python2 alleviates the need for installing in jupyter."
   ]
  },
  {
   "cell_type": "code",
   "execution_count": null,
   "metadata": {},
   "outputs": [],
   "source": [
    "!pip install sklearn -q"
   ]
  },
  {
   "cell_type": "code",
   "execution_count": null,
   "metadata": {},
   "outputs": [],
   "source": [
    "!pip install root_pandas -q"
   ]
  },
  {
   "cell_type": "markdown",
   "metadata": {},
   "source": [
    "From scikit-learn, we will be constructing an Adaboosted classifier from an ensemble of decision trees. The basic idea is that we construct an estimator from a large group of weak classifiers. The classifier tunes these trees during training. "
   ]
  },
  {
   "cell_type": "markdown",
   "metadata": {},
   "source": [
    "### 2.2 Decision Trees and Boosting <a name=\"dtrees_and_boosting\" /> "
   ]
  },
  {
   "cell_type": "code",
   "execution_count": null,
   "metadata": {},
   "outputs": [],
   "source": [
    "from sklearn.tree import DecisionTreeClassifier\n",
    "from sklearn.ensemble import AdaBoostClassifier\n",
    "\n",
    "base_classifier = DecisionTreeClassifier(max_depth = 5, min_samples_leaf = 5)\n",
    "ada = AdaBoostClassifier(\n",
    "    base_estimator = base_classifier,\n",
    "    learning_rate = 0.1,\n",
    "    n_estimators = 100,\n",
    "    algorithm = \"SAMME\")"
   ]
  },
  {
   "cell_type": "markdown",
   "metadata": {},
   "source": [
    "The parameters which we have control over are called the hyperparameters of the classifier. Often, these will have to be tweaked in order to get the best results. In order to train the classifier, we must tell it what is signal and what is background. This is done by labelling the data."
   ]
  },
  {
   "cell_type": "code",
   "execution_count": null,
   "metadata": {},
   "outputs": [],
   "source": [
    "import pandas as pd\n",
    "from root_pandas import read_root, to_root\n",
    "variables = [\"mass\", \"eta\", \"phi\"]\n",
    "\n",
    "#Import sig and bkg root files as panda's dataframes\n",
    "sig_frame = read_root(\"../../Datasets/Gen/Lab5_root/example/sig.root\", key = \"DecayTree\", columns = variables)\n",
    "bkg_frame = read_root(\"../../Datasets/Gen/Lab5_root/example/bkg.root\", key = \"DecayTree\", columns = variables)\n",
    "#There is a bug in read_root which sometimes shuffles the order of the columns from what you give it\n",
    "#This only matters when reading out feature_importances\n",
    "\n",
    "#Label signal as 1 and background as 0\n",
    "sig_frame[\"label\"] = np.ones(len(sig_frame))\n",
    "bkg_frame[\"label\"] = np.zeros(len(bkg_frame))\n",
    "\n",
    "train_frame = pd.concat([bkg_frame, sig_frame], axis = 0)\n",
    "target_frame = train_frame[\"label\"]\n",
    "train_frame = train_frame.drop(\"label\", axis = 1)\n",
    "\n",
    "ada.fit(train_frame, target_frame)\n",
    "\n",
    "#Let's check the feature importance of each variable\n",
    "#phi should have a fairly low importance\n",
    "for i in range(len(variables)):\n",
    "    print(list(train_frame)[i] + \": \" + str(ada.feature_importances_[i]))\n",
    "    "
   ]
  },
  {
   "cell_type": "markdown",
   "metadata": {},
   "source": [
    "Strangely, the Boosted Decision Tree (BDT) classifier has determined the mass to be slightly, and despite phi being the same between signal and background, it has determined it to be very slightly important. The BDT doesn't think about the distributions from a human perspective. It only sees sets of numbers, and determines what is signal or background based on the value and relationship between the numbers. We can at least see that ETA is the most important feature - which is to be expected. "
   ]
  },
  {
   "cell_type": "code",
   "execution_count": null,
   "metadata": {},
   "outputs": [],
   "source": [
    "bkg_sig_frame = read_root(\"../../Datasets/Gen/Lab5_root/example/bkg_and_sig.root\", key = \"DecayTree\", columns = variables)\n",
    "\n",
    "#Compute the decision function for every event and get classification\n",
    "bkg_sig_frame[\"classification\"] = ada.decision_function(bkg_sig_frame)"
   ]
  },
  {
   "cell_type": "markdown",
   "metadata": {},
   "source": [
    "With the data classified, lets write it to a root file and see what the classified data looks like."
   ]
  },
  {
   "cell_type": "code",
   "execution_count": null,
   "metadata": {},
   "outputs": [],
   "source": [
    "#Write classified data\n",
    "to_root(bkg_sig_frame, \"../../Datasets/Gen/Lab5_root/example/bkg_and_sig_classified.root\", key = \"DecayTree\")\n",
    "\n",
    "#open root file and grab ttree\n",
    "bkg_sig_classified_file = TFile.Open(\"../../Datasets/Gen/Lab5_root/example/bkg_and_sig_classified.root\")\n",
    "bkg_sig_classified_tree = bkg_sig_classified_file.Get(\"DecayTree\")\n",
    "\n",
    "canvas_2 = TCanvas(\"canvas_2\", \"Classified Data\", 1400, 900)\n",
    "canvas_2.Divide(3,3)\n",
    "canvas_2.cd(1)\n",
    "bkg_sig_classified_tree.Draw(\"classification\")\n",
    "canvas_2.cd(2)\n",
    "bkg_sig_classified_tree.Draw(\"mass\", \"classification < 0\")\n",
    "canvas_2.cd(3)\n",
    "bkg_sig_classified_tree.Draw(\"mass\", \"classification > 0\")\n",
    "canvas_2.cd(5)\n",
    "bkg_sig_classified_tree.Draw(\"eta\", \"classification < 0\")\n",
    "canvas_2.cd(6)\n",
    "bkg_sig_classified_tree.Draw(\"eta\", \"classification > 0\")\n",
    "canvas_2.cd(8)\n",
    "bkg_sig_classified_tree.Draw(\"phi\", \"classification < 0\")\n",
    "canvas_2.cd(9)\n",
    "bkg_sig_classified_tree.Draw(\"phi\", \"classification > 0\")\n",
    "canvas_2.Draw()"
   ]
  },
  {
   "cell_type": "markdown",
   "metadata": {},
   "source": [
    "Visually, it seems that our classifier did a good job of deciphering between signal and background based on the mass spectrum alone. This signal and background was generated from 70,000 backrgound events and 10,000 signal events. The number of signal and background entries seem to agree with what we generated from. However, we can see some background events were classified as signal, and this can happen vice versa as well. The classifier is not fool-proof and finding the best cut on the classification distribution is an important part of an analysis. It is more important to keep signal than to cut it out for the sake of background reduction. Furthermore, events with classification near 0 aren't clearly signal or background. This may explain why our ETA seems to still have noise at lower values. Some background events have most likely been classified as signal. Nevertheless, this is a useful tool in background reduction."
   ]
  },
  {
   "cell_type": "markdown",
   "metadata": {},
   "source": [
    "## 3 Classifier Testing <a name=\"class_test\" /> \n",
    "\n",
    "### 3.1 Overtraining Check with Cross Validation <a name=\"overtrain_check\" /> \n",
    "The power of machine learning classifier is their generality. Therefore, we want to avoid overtraining. This occurs when the classifier is only able to accurate classify the data it is trained on. We need the classifier to work for the most general situation. An example of overtraining (sometimes called overfitting) is shown below.\n",
    "\n",
    "\n"
   ]
  },
  {
   "cell_type": "code",
   "execution_count": null,
   "metadata": {},
   "outputs": [],
   "source": [
    "from ROOT import TGraph, gRandom\n",
    "#generate linear datapoints\n",
    "m = 2 #slope of the line\n",
    "b = 0 #y-intercept of the line\n",
    "ngr = 7 #number of datapoints\n",
    "gr = TGraph(ngr)\n",
    "\n",
    "for i in range(ngr):\n",
    "    x = gRandom.Uniform(-2,2) #randomly pick a value between -2 and 2\n",
    "    y = b + m*x\n",
    "    gr.SetPoint(i,x,y) #add the point to the TGraph\n",
    "    \n",
    "#Create Linear Fit Function\n",
    "fitting_function_line = ROOT.TF1(\"linear\", \"[0]*x + [1]\", -2, 2)\n",
    "fitting_function_line.SetParameter(0, 2)\n",
    "fitting_function_line.SetParameter(1, 0)\n",
    "\n",
    "#Create polynomial of order 9\n",
    "fitting_function_pol = ROOT.TF1(\"pol\", \"pol 9\", -2, 2)\n",
    "fitting_function_pol.FixParameter(1, 0) #so that fit doesn't settle on a line\n",
    "\n",
    "#Fit fitting function with TGraph\n",
    "fitting_function_line.SetLineWidth(2)\n",
    "fitting_function_pol.SetLineWidth(2)\n",
    "fitting_function_pol.SetLineColor(ROOT.kBlue)\n",
    "gr.Fit(fitting_function_line, \"RSQ\")  #Remove Q if you want to see parameter fit results\n",
    "gr.Fit(fitting_function_pol, \"BRS+Q\") \n",
    "\n",
    "canvas_3 = TCanvas(\"canvas 3\", \"Overfitting example\", 800, 400)\n",
    "gr.SetMarkerStyle(3)\n",
    "gr.SetMarkerSize(2)\n",
    "gr.SetTitle(\"Overfitting Example\")\n",
    "gr.Draw()\n",
    "canvas_3.Draw()"
   ]
  },
  {
   "cell_type": "markdown",
   "metadata": {},
   "source": [
    "You can run this multiple times and see various examples of this. The line is the true predictor of the relationship between x and y. Even though the polynomial intersects the points, it cannot often correctly predict the true relationship between and x and y (If the polynomial is wildy off from the points, run the script again). This is essentially what is happening in the N-dimensional phase space of our classifier when overtraining occurs.\n",
    "\n",
    "To check for this, we can 'fold' the training sample. This mean we train the classifier on say 2/3 of the training sample and evaluate the decision function on the remaining 1/3. Ideally, it will still be able accurately to classify the other 1/3 if we have enough statistics. Additionally, we know the true value of the 1/3 so we can decide how accurate it is. This is known as cross validation. Therefore, we will quantify the accuracy of our classifier by calculating the Receiver Operating Characteristic (ROC) score for every fold.\n",
    "\n",
    "### 3.2 ROC Curve and Score <a name = \"ROC\" /> \n",
    "The ROC curve is a measure of how well the classifier can distinguish between the two groups - signal and background. It is a plot of the true positive rate as a function of the false positive rate for different cut-off points. The ROC score is the area under the curve. Simply put, a ROC score of 0.5 means the classifier is guessing at random the class of an event, and a ROC score of 1 means it is perfect at determining the class of an event. The closer the score is to 1, the better our classifier is. Let's use this method to determine how accurate our classifier is.\n",
    "\n",
    "Since sklearn works with panda's dataframes and numpy arrays, we will use `matplotlib` to make our plots instead of `ROOT`."
   ]
  },
  {
   "cell_type": "code",
   "execution_count": null,
   "metadata": {},
   "outputs": [],
   "source": [
    "!pip install matplotlib -q #if missing"
   ]
  },
  {
   "cell_type": "code",
   "execution_count": null,
   "metadata": {},
   "outputs": [],
   "source": [
    "import time\n",
    "from sklearn.model_selection import KFold\n",
    "from sklearn.metrics import classification_report, roc_auc_score, roc_curve\n",
    "import matplotlib.pyplot as plt\n",
    "\n",
    "kf_train = KFold(n_splits = 3, shuffle = True) #Create folds in data\n",
    "classifiers = [] #empty list to hold trained classifiers\n",
    "bdt_classified = target_frame.copy() #initialize classification column\n",
    "\n",
    "#Initialize matplot plot\n",
    "plt.figure()\n",
    "\n",
    "print(time.ctime())\n",
    "j = 0\n",
    "for train, test in kf_train.split(train_frame):\n",
    "    j = j + 1 #keep track of which fold we are in\n",
    "    x_train, x_test = train_frame.iloc[train], train_frame.iloc[test]\n",
    "    y_train, y_test = target_frame.iloc[train], target_frame.iloc[test]\n",
    "    \n",
    "    #We will be training separate BDT on different parts of the sample\n",
    "    #these classifiers will be added to the list 'classifiers'\n",
    "    base_classifier = DecisionTreeClassifier(max_depth = 5, min_samples_leaf = 5)\n",
    "    ada = AdaBoostClassifier(\n",
    "        base_estimator = base_classifier,\n",
    "        learning_rate = 0.1,\n",
    "        n_estimators = 50, #too many estimators leads to memory issues in jupyter, reduced from earlier example\n",
    "        algorithm = \"SAMME\")\n",
    "    \n",
    "    #Train on 2/3 of the data\n",
    "    ada.fit(x_train, y_train.ravel())\n",
    "    #Print Feature Importances\n",
    "    print(\"Feature Importances\")\n",
    "    for i in range(len(variables)):\n",
    "        print(list(train_frame)[i] + \": \" + str(ada.feature_importances_[i]))\n",
    "    \n",
    "    #classify other 1/3 data\n",
    "    bdt_classified.iloc[test] = ada.decision_function(x_test)\n",
    "    \n",
    "    #Print ROC score of each classifier fold\n",
    "    score = roc_auc_score(target_frame.iloc[test], bdt_classified.iloc[test])\n",
    "    print(\"ROC score of fold \" + str(j) + \" is: \" + str(score))\n",
    "   \n",
    "    #Plot ROC curve of for each fold\n",
    "    fpr, tpr, thresholds = roc_curve(target_frame.iloc[test], bdt_classified.iloc[test])\n",
    "    lw = 2\n",
    "    plt.plot(fpr, tpr,\n",
    "            lw = lw, label = 'ROC Curve (area = %0.02f)' %  score)\n",
    "    \n",
    "    #Save the trained classifier internally to list 'classifiers'\n",
    "    classifiers.append(ada)\n",
    "    \n",
    "    print(time.ctime())\n",
    "    print(\"\") #print a blank space\n",
    "    \n",
    "print(\"Combined ROC Score: \" + str(roc_auc_score(target_frame, bdt_classified))) #Print Combined ROC score\n",
    "\n",
    "#Draw random classification reference line\n",
    "plt.plot([0,1], [0,1], color = 'navy', lw = lw, linestyle = \"--\") \n",
    "\n",
    "#Format plot\n",
    "plt.xlim([0.0, 1.0])\n",
    "plt.ylim([0.0, 1.05])\n",
    "plt.xlabel('False Positive Rate')\n",
    "plt.ylabel('True Positive Rate')\n",
    "plt.title('Receiver operating characteristic of ADAboosted Classifier')\n",
    "plt.legend(loc=\"lower right\")\n",
    "\n",
    "#Show the plot\n",
    "plt.show()"
   ]
  },
  {
   "cell_type": "markdown",
   "metadata": {},
   "source": [
    "Again, the Receiver Operating Characteristic (ROC) score is the integral of the ROC curve. It is a measure of how well the classifier is performing. A score of 0.5 means the classifier is guessing at random, and a score of 1 means it is perfectly determining the classes of test events. The ROC scores suggest the classifiers in the list `classifiers` are not overtrained since it performs well on the test data. Idealy we would like to then compute the average classification from our three trained BDTs on our data to reduce systematic error introduced from our classifiers."
   ]
  },
  {
   "cell_type": "markdown",
   "metadata": {},
   "source": [
    "### 3.3 Exercise \n",
    "Using the method from 2.2, train a BDT to classify the file `bkg_and_sig_mu.root` in folder `/Datasets/Gen/Lab5_root/exercise/` by training on the files `bkg_mu.root` and `sig_mu.root`. Open the files in `TBrowser` and notice there is an additional distribution: mu_ProbNNmu. We will not focus on optimizing the classifier cut: consider classification $< 0$ as background and signal as classification $> 0$ for this exercise. \n",
    "\n",
    "After this, use cross validation as outlined in 3.2 to check your hyperparameters aren't causing overtraining. Spend some time tweaking the hyperparameters and try to improve your obtained ROC score if possible.\n",
    "\n",
    "#### Note: You can do this within jupyter, but you may run into memory issues. If this is a problem, reduce the number of estimators you are using within jupyter. Ideally, we want to have a large number of estimators since a BDT is an ensemble of many weak estimators. If the ensemble is too small, it will not be an effective classifier."
   ]
  },
  {
   "cell_type": "markdown",
   "metadata": {},
   "source": [
    "## 4 Reweighting\n",
    "### 4.1 Motivation\n",
    "While monte carlo simulation can be useful in checking hypothesis, we also run into the problem of confirmation bias. Since we generate monte carlo, we have no way of knowing it's the true distribution unless it also what we observe in data. Sometimes, simulated monte carlo and observed data will not agree in certain distributions. This is when we must apply \"weights\" to our simulation, so that it more closely resembles what observed data looks like. To illustrate this point, we will be working with a very simple example. A signal monte carlo will be reweighted to match the observed data. This method can work in multiple dimensions like the classifier.\n",
    "\n",
    "### 4.2 GBReweighter\n",
    "We will be using `GBreweighter` from the library `hep_ml` (Library Reference Page: https://arogozhnikov.github.io/hep_ml/ )."
   ]
  },
  {
   "cell_type": "code",
   "execution_count": null,
   "metadata": {},
   "outputs": [],
   "source": [
    "!pip install hep_ml -q"
   ]
  },
  {
   "cell_type": "markdown",
   "metadata": {},
   "source": [
    "Before reweighting, lets take a look at how these distributions compare. We will be using the lepton $P_t$ and $eta$."
   ]
  },
  {
   "cell_type": "code",
   "execution_count": 3,
   "metadata": {},
   "outputs": [
    {
     "data": {
      "image/png": "[encoded data removed]",
      "text/plain": [
       "<IPython.core.display.Image object>"
      ]
     },
     "metadata": {},
     "output_type": "display_data"
    }
   ],
   "source": [
    "input_file = ROOT.TFile.Open(\"../../Datasets/TTbar/ee_ttbarsignalplustau_pseudo_data.root\")\n",
    "\n",
    "input_tree = input_file.Get(\"DecayTree\")\n",
    "#Create TCanvas and plot pt, and eta of the lepton\n",
    "canvas_2 = TCanvas(\"canvas\", \"Comparing monte carlo and data\", 800, 400)\n",
    "canvas_2.Divide(2,1)\n",
    "\n",
    "#Plot pt\n",
    "canvas_2.cd(1)\n",
    "input_tree.SetLineColor(ROOT.kBlue)\n",
    "input_tree.Draw(\"l_pt\", \"l_pt < 400\")\n",
    "input_tree.SetLineColor(ROOT.kRed)\n",
    "input_tree.Draw(\"l_pt_pseudodata\", \"1\", \"same\")\n",
    "\n",
    "#Create legend\n",
    "legend = ROOT.TLegend(0.5,0.5,0.9,0.7)\n",
    "legend.AddEntry(\"simulation\", \"simulation\", \"L\").SetLineColor(ROOT.kBlue)\n",
    "legend.AddEntry(\"data\", \"data\", \"L\").SetLineColor(ROOT.kRed)\n",
    "legend.Draw()\n",
    "\n",
    "#Plot eta\n",
    "canvas_2.cd(2)\n",
    "input_tree.SetLineColor(ROOT.kBlue)\n",
    "input_tree.Draw(\"l_eta\")\n",
    "input_tree.SetLineColor(ROOT.kRed)\n",
    "input_tree.Draw(\"l_eta_pseudodata\", \"1\", \"same\")\n",
    "\n",
    "#Create Legend\n",
    "legend_2 = ROOT.TLegend(0.35,0.2,0.65,0.4)\n",
    "legend_2.AddEntry(\"simulation\", \"simulation\", \"L\").SetLineColor(ROOT.kBlue)\n",
    "legend_2.AddEntry(\"data\", \"data\", \"L\").SetLineColor(ROOT.kRed)\n",
    "legend_2.Draw()\n",
    "\n",
    "\n",
    "canvas_2.Draw()"
   ]
  },
  {
   "cell_type": "markdown",
   "metadata": {},
   "source": [
    "As we can see, the lepton $P_t$ and $eta$ are slightly different between the simulated and data distributions. We will want to correct for these minor difference now. Thankfully, `GBReweighter` works with panda's dataframes the same way `scikit-learn`'s package does."
   ]
  },
  {
   "cell_type": "code",
   "execution_count": 4,
   "metadata": {},
   "outputs": [],
   "source": [
    "from hep_ml.reweight import GBReweighter\n",
    "from root_pandas import read_root, to_root"
   ]
  },
  {
   "cell_type": "code",
   "execution_count": 5,
   "metadata": {},
   "outputs": [],
   "source": [
    "#Read simulation and data to separate frames\n",
    "input_mc_frame = read_root(\"../../Datasets/TTbar/ee_ttbarsignalplustau_pseudo_data.root\", columns = [\"l_pt\", \"l_eta\"], key = \"DecayTree\")\n",
    "input_data_frame = read_root(\"../../Datasets/TTbar/ee_ttbarsignalplustau_pseudo_data.root\", columns = [\"l_pt_pseudodata\", \"l_eta_pseudodata\"], key = \"DecayTree\")"
   ]
  },
  {
   "cell_type": "code",
   "execution_count": 6,
   "metadata": {},
   "outputs": [
    {
     "data": {
      "text/plain": [
       "GBReweighter(gb_args={}, learning_rate=0.1, loss_regularization=5.0,\n",
       "       max_depth=3, min_samples_leaf=10, n_estimators=100)"
      ]
     },
     "execution_count": 6,
     "metadata": {},
     "output_type": "execute_result"
    }
   ],
   "source": [
    "#Create reweighter object\n",
    "reweighter = GBReweighter(\n",
    "    n_estimators = 100,\n",
    "    learning_rate = 0.1,\n",
    "    max_depth = 3,\n",
    "    min_samples_leaf = 10)\n",
    "\n",
    "#Fit reweighter to simulation and data\n",
    "reweighter.fit(input_mc_frame, input_data_frame)"
   ]
  },
  {
   "cell_type": "markdown",
   "metadata": {},
   "source": [
    "Once the reweighter is trained to find the differneces between simulation and data, it can then predict weights for the simulation."
   ]
  },
  {
   "cell_type": "code",
   "execution_count": 7,
   "metadata": {},
   "outputs": [],
   "source": [
    "mc_weights = reweighter.predict_weights(input_mc_frame)\n",
    "\n",
    "\n",
    "#Add weights to output file\n",
    "output_mc_frame = read_root(\"../../Datasets/TTbar/ee_ttbarsignalplustau_pseudo_data.root\", key = \"DecayTree\")\n",
    "output_mc_frame[\"sWeights\"] = mc_weights\n",
    "to_root(output_mc_frame, \"../../Datasets/TTbar/ee_ttbarsignalplustau_pseudo_data_weighted.root\", key = \"DecayTree\")"
   ]
  },
  {
   "cell_type": "markdown",
   "metadata": {},
   "source": [
    "Now let's see what the reweighted data looks like."
   ]
  },
  {
   "cell_type": "code",
   "execution_count": 25,
   "metadata": {},
   "outputs": [
    {
     "name": "stderr",
     "output_type": "stream",
     "text": [
      "Warning in <TCanvas::Constructor>: Deleting canvas with same name: canvas\n"
     ]
    },
    {
     "data": {
      "image/png": "[encoded data removed]",
      "text/plain": [
       "<IPython.core.display.Image object>"
      ]
     },
     "metadata": {},
     "output_type": "display_data"
    }
   ],
   "source": [
    "input_file_weighted = ROOT.TFile.Open(\"../../Datasets/TTbar/ee_ttbarsignalplustau_pseudo_data_weighted.root\")\n",
    "\n",
    "input_tree_weighted = input_file_weighted.Get(\"DecayTree\")\n",
    "#Create TCanvas and plot pt, and eta of the lepton\n",
    "canvas_3 = TCanvas(\"canvas\", \"Comparing monte carlo and data\", 800, 400)\n",
    "canvas_3.Divide(2,1)\n",
    "\n",
    "#Plot pt\n",
    "canvas_3.cd(1)\n",
    "input_tree_weighted.SetLineColor(ROOT.kBlue)\n",
    "input_tree_weighted.Draw(\"l_pt\", \"l_pt < 300\")\n",
    "input_tree_weighted.SetLineColor(ROOT.kRed)\n",
    "input_tree_weighted.Draw(\"l_pt_pseudodata\", \"1\", \"same\")\n",
    "input_tree_weighted.SetLineColor(ROOT.kBlue)\n",
    "input_tree_weighted.Draw(\"l_pt\", \"1*sWeights\", \"same\")\n",
    "\n",
    "#Create legend\n",
    "legend = ROOT.TLegend(0.5,0.5,0.9,0.7)\n",
    "legend.AddEntry(\"simulation\", \"simulation\", \"L\").SetLineColor(ROOT.kBlue)\n",
    "legend.AddEntry(\"data\", \"data\", \"L\").SetLineColor(ROOT.kRed)\n",
    "legend.Draw()\n",
    "\n",
    "#Plot eta\n",
    "canvas_3.cd(2)\n",
    "input_tree_weighted.SetLineColor(ROOT.kBlue)\n",
    "input_tree_weighted.Draw(\"l_eta>>hist(80, -3, 3)\", \"1\")\n",
    "input_tree_weighted.SetLineColor(ROOT.kRed)\n",
    "input_tree_weighted.Draw(\"l_eta_pseudodata\", \"1\", \"same\")    \n",
    "input_tree_weighted.SetLineColor(ROOT.kBlue)\n",
    "input_tree_weighted.Draw(\"l_eta\", \"1*sWeights\", \"same\")\n",
    "\n",
    "#Create Legend\n",
    "legend_2 = ROOT.TLegend(0.35,0.2,0.65,0.4)\n",
    "legend_2.AddEntry(\"simulation\", \"simulation\", \"L\").SetLineColor(ROOT.kBlue)\n",
    "legend_2.AddEntry(\"data\", \"data\", \"L\").SetLineColor(ROOT.kRed)\n",
    "legend_2.Draw()\n",
    "\n",
    "\n",
    "canvas_3.Draw()"
   ]
  },
  {
   "cell_type": "markdown",
   "metadata": {},
   "source": [
    "As we can see, the reweighting has led to better agreement between simulation and data $P_t$. However, this is at the expense of more disagreement between simulation and data eta. Like classifiers, reweighting is not fool-proof method for correcting for all the differences between simulation and data. It is neccesarry to input relevant distributions and tune the hyperparameters to get the best results, so that it can be useful tool in analysis."
   ]
  },
  {
   "cell_type": "code",
   "execution_count": null,
   "metadata": {},
   "outputs": [],
   "source": []
  }
 ],
 "metadata": {
  "kernelspec": {
   "display_name": "Python 2",
   "language": "python",
   "name": "python2"
  },
  "language_info": {
   "codemirror_mode": {
    "name": "ipython",
    "version": 2
   },
   "file_extension": ".py",
   "mimetype": "text/x-python",
   "name": "python",
   "nbconvert_exporter": "python",
   "pygments_lexer": "ipython2",
   "version": "2.7.15rc1"
  }
 },
 "nbformat": 4,
 "nbformat_minor": 2
}
